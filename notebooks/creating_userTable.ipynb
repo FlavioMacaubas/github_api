{
 "cells": [
  {
   "cell_type": "markdown",
   "metadata": {},
   "source": [
    "### Configurando ambiente"
   ]
  },
  {
   "cell_type": "code",
   "execution_count": 13,
   "metadata": {},
   "outputs": [],
   "source": [
    "from pyspark.sql import SparkSession\n",
    "from pyspark.sql import functions as f\n",
    "from functools import reduce\n",
    "\n",
    "# Iniciar SparkSession\n",
    "spark = SparkSession.builder \\\n",
    "    .appName(\"Criação de github users Table\") \\\n",
    "    .getOrCreate()\n"
   ]
  },
  {
   "cell_type": "markdown",
   "metadata": {},
   "source": [
    "### Data Load"
   ]
  },
  {
   "cell_type": "code",
   "execution_count": 8,
   "metadata": {},
   "outputs": [],
   "source": [
    "get_json_file = \"../jsons/users_microdata.json\"\n",
    "\n",
    "df = spark.read.json(get_json_file, multiLine=True)"
   ]
  },
  {
   "cell_type": "markdown",
   "metadata": {},
   "source": [
    "#### Data Transformation"
   ]
  },
  {
   "cell_type": "code",
   "execution_count": 9,
   "metadata": {},
   "outputs": [],
   "source": [
    "# Ajustando company name\n",
    "df = df.withColumn('company', f.regexp_replace(f.col('company'), '@', ''))"
   ]
  },
  {
   "cell_type": "code",
   "execution_count": 10,
   "metadata": {},
   "outputs": [],
   "source": [
    "# Ajustando created_at\n",
    "df = df.withColumn('created_at', f.unix_timestamp(f.col('created_at'), \"yyyy-MM-dd'T'HH:mm:ss'Z'\")) \\\n",
    "       .withColumn('created_at', f.date_format(f.col('created_at').cast('timestamp'), 'dd/MM/yyyy'))"
   ]
  },
  {
   "cell_type": "code",
   "execution_count": 14,
   "metadata": {},
   "outputs": [],
   "source": [
    "# Retirando separador de todos os casos dado que irei salvar em csv\n",
    "df = reduce(\n",
    "    lambda temp_df, col_name: temp_df.withColumn(col_name, f.regexp_replace(f.col(col_name), ';', '')),\n",
    "    df.columns,\n",
    "    df\n",
    ")"
   ]
  },
  {
   "cell_type": "code",
   "execution_count": 16,
   "metadata": {},
   "outputs": [],
   "source": [
    "# Ajuste de string para company, bio e name\n",
    "df = reduce(\n",
    "    lambda temp_df,col_name: temp_df.withColumn(col_name, f.trim(f.col(col_name))),\n",
    "    ['bio', 'company', 'name'],\n",
    "    df\n",
    ")"
   ]
  },
  {
   "cell_type": "code",
   "execution_count": 17,
   "metadata": {},
   "outputs": [
    {
     "name": "stdout",
     "output_type": "stream",
     "text": [
      "root\n",
      " |-- bio: string (nullable = true)\n",
      " |-- blog: string (nullable = true)\n",
      " |-- company: string (nullable = true)\n",
      " |-- created_at: string (nullable = true)\n",
      " |-- email: string (nullable = true)\n",
      " |-- followers: string (nullable = true)\n",
      " |-- following: string (nullable = true)\n",
      " |-- name: string (nullable = true)\n",
      " |-- public_repos: string (nullable = true)\n",
      "\n"
     ]
    }
   ],
   "source": [
    "df.printSchema()"
   ]
  },
  {
   "cell_type": "code",
   "execution_count": 18,
   "metadata": {},
   "outputs": [
    {
     "name": "stdout",
     "output_type": "stream",
     "text": [
      "+-------------------------------------+--------------------+---------------+----------+--------------------+---------+---------+--------------------+------------+\n",
      "|                                  bio|                blog|        company|created_at|               email|followers|following|                name|public_repos|\n",
      "+-------------------------------------+--------------------+---------------+----------+--------------------+---------+---------+--------------------+------------+\n",
      "|一切好与不好都始于第一步，勇敢地踏...|https://blog.csdn...|            DUT|25/10/2016|   2559820564@qq.com|      100|       19|            JosonLee|          37|\n",
      "|                                 NULL| https://chrisxu.wtf|           Meta|31/01/2013|  github@chrisxu.wtf|      100|       47|            Chris Xu|          19|\n",
      "|                                 NULL|                    |           NULL|22/02/2024|                NULL|      100|       83|                NULL|           0|\n",
      "|                 Software Engineer...|https://www.linke...|           NULL|23/02/2019|                NULL|      100|       73|                NULL|         147|\n",
      "|                 FullStack develop...|https://www.linke...|           Fixi|11/06/2020|                NULL|      100|      108|             Drielly|          16|\n",
      "|                                 NULL|http://twitter.co...|           NULL|17/10/2011|                NULL|      100|       11|       Federico Abad|           9|\n",
      "|                                 NULL|                    |  MongoDB, Inc.|08/10/2011|jeff.yemin@mongod...|      100|        3|          Jeff Yemin|          79|\n",
      "|                               Rookie|                    |      kaola-fed|09/09/2014|elcarim5efil@gmai...|      100|       65|        elcarim5efil|          27|\n",
      "|                 Microsoft employe...|http://www.mattma...|      Microsoft|21/09/2013|                NULL|      100|        0|         Matt Masson|           7|\n",
      "|                 We rank articles ...|https://medium.my...|       Mybridge|01/07/2014|    team@mybridge.co|      100|        1|    Mybridge Monthly|           7|\n",
      "|                                 NULL|                    |           NULL|04/01/2011|                NULL|      100|        0|                 jsl|           9|\n",
      "|                                 NULL|http://tim.nagel....|           NULL|16/05/2010|    tim@nagel.com.au|      100|       40|           Tim Nagel|          74|\n",
      "|                 CEO @magicbell-io...|https://www.magic...|MagicBell, Inc.|23/03/2009|                NULL|      100|       89|          Hana Mohan|          33|\n",
      "|                 RGSoC 2018 @Probo...|                    |           NULL|07/01/2017|rahmeenwill99@gma...|      100|       91|       Rahmeen Habib|          51|\n",
      "|                 core engineering ...|         andrew.page|    hightouchio|16/12/2012|   hello@andrew.page|      100|       36|         Andrew Page|          56|\n",
      "|                                 NULL|   romeric.github.io|           NULL|04/09/2013|                NULL|      100|        1|               Roman|          26|\n",
      "|                 Front-End | JS | ...|https://linktr.ee...|       Valtech_|27/12/2019|                NULL|      100|       82| Thamiris A. Vicente|          30|\n",
      "|                 Software Engineer...|https://kr.linked...|          Lunit|09/06/2014|dykim@codingmonst...|      100|        2|          dongyi.kim|          39|\n",
      "|                                 NULL|                    |           NULL|22/09/2014|                NULL|      100|        6|         Jiangtao Hu|          75|\n",
      "|                 Bachelor in Compu...|https://carlosjor...|           NULL|27/04/2019|rodriguezcuelloc@...|      100|       69|Carlos Jorge Rodr...|          24|\n",
      "+-------------------------------------+--------------------+---------------+----------+--------------------+---------+---------+--------------------+------------+\n",
      "only showing top 20 rows\n",
      "\n"
     ]
    }
   ],
   "source": [
    "df.show()"
   ]
  },
  {
   "cell_type": "markdown",
   "metadata": {},
   "source": [
    "### Data Saving"
   ]
  },
  {
   "cell_type": "code",
   "execution_count": 23,
   "metadata": {},
   "outputs": [],
   "source": [
    "df.write.mode('overwrite').option('sep', ';').option('header', 'true').csv('../data/githubUsersTable')  "
   ]
  }
 ],
 "metadata": {
  "kernelspec": {
   "display_name": "Python 3",
   "language": "python",
   "name": "python3"
  },
  "language_info": {
   "codemirror_mode": {
    "name": "ipython",
    "version": 3
   },
   "file_extension": ".py",
   "mimetype": "text/x-python",
   "name": "python",
   "nbconvert_exporter": "python",
   "pygments_lexer": "ipython3",
   "version": "3.11.9"
  }
 },
 "nbformat": 4,
 "nbformat_minor": 2
}
